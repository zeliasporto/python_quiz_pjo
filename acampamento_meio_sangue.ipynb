{
  "cells": [
    {
      "cell_type": "markdown",
      "metadata": {
        "id": "view-in-github",
        "colab_type": "text"
      },
      "source": [
        "<a href=\"https://colab.research.google.com/github/zeliasporto/python_quiz_pjo/blob/main/acampamento_meio_sangue.ipynb\" target=\"_parent\"><img src=\"https://colab.research.google.com/assets/colab-badge.svg\" alt=\"Open In Colab\"/></a>"
      ]
    },
    {
      "cell_type": "code",
      "execution_count": null,
      "metadata": {
        "colab": {
          "base_uri": "https://localhost:8080/"
        },
        "id": "GEGleYm9ryat",
        "outputId": "58ef8cf4-fda0-47d9-bab7-c65c2b7a4f48"
      },
      "outputs": [
        {
          "output_type": "stream",
          "name": "stdout",
          "text": [
            "Collecting unidecode\n",
            "  Downloading Unidecode-1.3.8-py3-none-any.whl (235 kB)\n",
            "\u001b[?25l     \u001b[90m━━━━━━━━━━━━━━━━━━━━━━━━━━━━━━━━━━━━━━━━\u001b[0m \u001b[32m0.0/235.5 kB\u001b[0m \u001b[31m?\u001b[0m eta \u001b[36m-:--:--\u001b[0m\r\u001b[2K     \u001b[91m━━━━━━━━━━━━━━━━━━━━━━━━━━━━━━━━━━━━━━\u001b[0m\u001b[90m╺\u001b[0m\u001b[90m━\u001b[0m \u001b[32m225.3/235.5 kB\u001b[0m \u001b[31m7.6 MB/s\u001b[0m eta \u001b[36m0:00:01\u001b[0m\r\u001b[2K     \u001b[90m━━━━━━━━━━━━━━━━━━━━━━━━━━━━━━━━━━━━━━━━\u001b[0m \u001b[32m235.5/235.5 kB\u001b[0m \u001b[31m6.2 MB/s\u001b[0m eta \u001b[36m0:00:00\u001b[0m\n",
            "\u001b[?25hInstalling collected packages: unidecode\n",
            "Successfully installed unidecode-1.3.8\n"
          ]
        }
      ],
      "source": [
        "!pip install unidecode\n",
        "import unidecode\n",
        "from operator import itemgetter"
      ]
    },
    {
      "cell_type": "code",
      "execution_count": null,
      "metadata": {
        "id": "t8xTZdz32OWj"
      },
      "outputs": [],
      "source": [
        "scores = []\n",
        "\n",
        "score_d0 = 0\n",
        "score_d1 = 0\n",
        "score_d2 = 0\n",
        "score_d3 = 0\n",
        "score_d4 = 0\n",
        "score_d5 = 0\n",
        "score_d6 = 0\n",
        "score_d7 = 0\n",
        "score_d8 = 0\n",
        "score_d9 = 0\n",
        "score_d10 = 0\n",
        "score_d11 = 0\n",
        "score_d12 = 0\n",
        "score_d13 = 0\n",
        "score_d14 = 0\n",
        "score_d15 = 0\n",
        "score_d16 = 0\n",
        "score_d17 = 0\n",
        "\n",
        "scores.append([score_d0, 'Zeus'])\n",
        "scores.append([score_d1, 'Poseidon'])\n",
        "scores.append([score_d2, 'Demeter'])\n",
        "scores.append([score_d3, 'Ares'])\n",
        "scores.append([score_d4, 'Atena'])\n",
        "scores.append([score_d5, 'Apolo'])\n",
        "scores.append([score_d6, 'Hefesto'])\n",
        "scores.append([score_d7, 'Afrodite'])\n",
        "scores.append([score_d8, 'Dionísio'])\n",
        "scores.append([score_d9, 'Hades'])\n",
        "scores.append([score_d10, 'Íris'])\n",
        "scores.append([score_d11, 'Hípnos'])\n",
        "scores.append([score_d12, 'Nemesis'])\n",
        "scores.append([score_d13, 'Nice'])\n",
        "scores.append([score_d14, 'Hebe'])\n",
        "scores.append([score_d15, 'Tique'])\n",
        "scores.append([score_d16, 'Hécate'])\n",
        "scores.append([score_d17, 'Hermes'])"
      ]
    },
    {
      "cell_type": "code",
      "execution_count": null,
      "metadata": {
        "id": "M2isb8NoyckT"
      },
      "outputs": [],
      "source": [
        "d0 = []\n",
        "d0.append('• Tendem a ter um espírito de liderança, consequentemente não lhe agrada a ideia de receber ordens. ')\n",
        "d0.append('• Mesmo que eles não se ofereçam para o cargo, geralmente são a primeira opção pela escolha de um grupo em geral ')\n",
        "d0.append('• As pessoas costumam seguir as ordens deles pois sabem que ele fará de tudo para atingir o objetivo, e que tomara as decisões certas. ')\n",
        "d0.append('• São pessoas bem ambiciosas. O desejo e a cobiça por algo grande, ou por ser alguém grande. ')\n",
        "d0.append('• Fazem tudo da melhor forma possível, ou seja, querem sempre mostrar exemplo e ser motivo de orgulho. ')\n",
        "d0.append('• Jamais aceitaria a ideia de ser conhecido por alguém meia boca. Vão fazer o possível e impossível  (pelo menos tentar) para, literalmente, serem os melhores.  ')\n",
        "d0.append('• São confiantes e seguros de si. Sabem o seu valor e não deixarão ninguém os rebaixar. ')\n",
        "d0.append('• Pessoas justas, que tentarão ao máximo não quebrar com suas promessas. ')\n",
        "d0.append('• Não é difícil de serem irritados.  ')\n",
        "d0.append('• Explodem sempre quando a situação foge do seu controle. Tudo tem que estar ao seu grado, caso o contrário ele já fecha a cara. ')\n",
        "d0.append('• O senso de humor pode não ser comum como o da maioria, mas isso não quer dizer que não tenham. ')\n",
        "d0.append('• São pessoas inteligentes, que não de deixam levar fácil por conversa furada. ')\n",
        "d0.append('• A lealdade é super importante. Não muda de lado nem nos piores momentos, mesmo sabendo que a coisa está feia. ')\n",
        "d0.append('• De algum modo, se sente bem com tempestades com raios. ')\n",
        "d0.append('• Apesar de não demonstrar muito, são pessoas carinhosas, e que gostam de uma atenção a mais. ')\n",
        "d0.append('• São bem perfeccionistas, e não gostam de nada desorganizado. ')\n",
        "d0.append('• Pessoas de emoções fortes, mas que sabe a hora de conte-las e não vê dificuldade. ')\n",
        "d0.append('• Não admitem as coisas com muita facilidade, então pode esperar sentado se quiser ouvir uma confissão de \"ok, você estava certo\". ')\n",
        "d0.append('• Amam sempre receber elogios, e eles atuam como um combustível (apesar de que vai continuar bem mesmo sem eles). ')\n",
        "d0.append('• Pessoas teimosas e firmes em suas ideias. Defenderá com unhas, dentes e argumentos super válidos, mesmo que por mais maluca seja a ideia.')"
      ]
    },
    {
      "cell_type": "code",
      "execution_count": null,
      "metadata": {
        "id": "IGg8qq5e5Nwx"
      },
      "outputs": [],
      "source": [
        "d1 = []\n",
        "d1.append('• São extremamente leais as pessoas. Nunca abandonaria quando a situação está feia, ficaria e lutaria, dando a sua vida para ajudar.')\n",
        "d1.append('• Suas promessas valem ouro, eles costumam se culpar bastante quando quebram uma, e querem de alguma forma compensar.')\n",
        "d1.append('• As palavras algumas vezes podem acabar escapando, geralmente eles não conseguem conter o que pensam, acabando saindo por afrontoso.')\n",
        "d1.append('• Muitas das suas ideias e principalmente os seus motivos não são compreendidos facilmente pelos outros, principalmente os mais velhos.')\n",
        "d1.append('• Auto-suficiente o bastante para tentar fazer tudo sozinho, as vezes por querer mostrar serviço ou simplesmente por não querer incomodar alguém por ajuda.')\n",
        "d1.append('• Aliás, querem sempre mostrar do que são capazes. (Mesmo que não sejam, acabam dando um jeito.)')\n",
        "d1.append('• No fundo tem um bom coração, e o que mais prezam e pelo bem estar dos que ama.')\n",
        "d1.append('• Detestam a traição, principalmente quando é consigo. Nunca mais vão olhar para a pessoa com os mesmos olhos.')\n",
        "d1.append('• Dependem de tempo para decidir a melhor coisa a se fazer, não é simplesmente \"ah, pensei bora lá\", e sim um \"CALMA AI, TO PENSANDO\".')\n",
        "d1.append('• Odeiam serem apressados, isso só piora as coisas e os fazem ficar nervosos.')\n",
        "d1.append('• Tendem a ter ideias loucas e arriscadas, mas que no final acaba dando certo.')\n",
        "d1.append('• Sua ligação com a água é bem forte. Costuma se sentir bem em contato com a água, seja em piscina ou mar. É incrivelmente relaxante e traz paz.')\n",
        "d1.append('• A vida das pessoas que ama é mais importante que a própria.')\n",
        "d1.append('• São pessoas divertidas e acolhedoras, sempre será um ombro amigo para qualquer um.')\n",
        "d1.append('• É fácil entender o sentimento das pessoas e, muitas vezes, acaba até se identificando.')\n",
        "d1.append('• São MUITO apegados a família.')\n",
        "d1.append('• Apegados a algumas coisas que lembram momentos felizes.')\n",
        "d1.append('• Daria a vida para salvar as pessoas que ama.')\n",
        "d1.append('• Não é muito difícil para eles fazerem amizades, justamente por entenderem todos os lados e se colocarem no lugar dos outros.')\n",
        "d1.append('• Se começam algo, vão terminar de um jeito ou de outro. Talvez não fique como esperado, mas terminar é certeza.')"
      ]
    },
    {
      "cell_type": "code",
      "execution_count": null,
      "metadata": {
        "id": "-K5s265u-xRf"
      },
      "outputs": [],
      "source": [
        "d2 = []\n",
        "d2.append('• São pessoas, não necessariamente tímidas, mas são caladas. Geralmente em seu próprio mundo e pensamentos. ')\n",
        "d2.append('• Prezam pela educação, e tratam assim até quem não merece tal tratamento. ')\n",
        "d2.append('• Normalmente pacientes, não vêem problema em esperar e sabem dar o devido tempo. ')\n",
        "d2.append('• A natureza acalma de uma forma incrível. Se sentem super relaxados e no melhor lugar do mundo. ')\n",
        "d2.append('• Geralmente pacifícos, se ninguém passar do limite e acabar provocando ao extremo. ')\n",
        "d2.append('• Quando explodem em raiva, as pessoas ficam realmente assustadas, justamente por isso não acontecer muito. ')\n",
        "d2.append('• Costuma se interessar pela causa animal e ambiental. ')\n",
        "d2.append('• Sempre está pensando em um jeito de poluir menos e em ideias sustentáveis. ')\n",
        "d2.append('• Gostam de socializar com as pessoas que geralmente são ignoradas pelas demais. ')\n",
        "d2.append('• São bons ouvintes, e tentarão sempre ajudar com alguma solução pacífica. ')\n",
        "d2.append('• Adoram plantas e já sonharam ou sonham trabalhar com isso. ')\n",
        "d2.append('• Geralmente dão grandes palestras sobre a poluição humana no mundo e como isso está afetando o planeta. ')\n",
        "d2.append('• Sabem a hora certa de falar ou escutar. ')\n",
        "d2.append('• Conseguem manter as palavras ruins para si, pois por mais que a pessoa mereça, a educação vem primeiro. ')\n",
        "d2.append('• Tentam sorrir e parecerem bem mesmo quando quebrados por dentro. ')\n",
        "d2.append('• São corajosos e vão fazer o máximo para ajudar a quem ama. ')\n",
        "d2.append('• Gostam de ler, mais pelo fato de aprender coisas novas que podem ser úteis. ')\n",
        "d2.append('• Apesar de serem considerados tímidos e calados, não são idiotas. Sabem quando alguém está fazendo algo por interesse ou por mal. ')\n",
        "d2.append('• Gostam de acompanhar o crescimento das plantas que cuida. ')\n",
        "d2.append('• Podem ser perigosos quando extremamente irritados. ')"
      ]
    },
    {
      "cell_type": "code",
      "execution_count": null,
      "metadata": {
        "id": "BydTz3Rk_1D4"
      },
      "outputs": [],
      "source": [
        "d3 = []\n",
        "d3.append('• Costumam ser bastante impulsivos, e não ligam para as consequências dessa impulsividade. ')\n",
        "d3.append('• Não são de se importar com qualquer um, então não ligam se suas ações afetam as pessoas. ')\n",
        "d3.append('• Em hipótese alguma levam desaforo pra casa, na verdade é a pessoa que levaria um olho roxo. ')\n",
        "d3.append('• Tem um pavio EXTREMAMENTE curto, qualquer coisa é motivo para discussão e brigas. ')\n",
        "d3.append('• Odeiam receber ordens, não são daqueles que abaixam o rabinho e simples assim. ')\n",
        "d3.append('• Primeiro, eles não são ajudantes de ninguém, eles são aliados. Eles não são menos do que o igual. ')\n",
        "d3.append('• Adoram brigas e as vezes até começa elas por motivos bobos, por simplesmente brigar. ')\n",
        "d3.append('• São brutos na maior parte do tempo, mas isso não quer dizer que não podem ser o contrário. ')\n",
        "d3.append('• Tem muita mais muita dificuldade de falar de seus sentimentos, então não os apresse. ')\n",
        "d3.append('• São bastante orgulhosos, e quando o orgulho é afetado, eles empacam que nem uma mula, nada é capaz de mudar a opinião. ')\n",
        "d3.append('• Seu ponto fraco são as pessoas que amam, eles são os únicos que podem conseguir fazer mudar o pensamento e ideias. ')\n",
        "d3.append('• Não tem medo de praticamente nada. ')\n",
        "d3.append('• Pelas pessoas que ama, é capaz de dar a própria vida. ')\n",
        "d3.append('• Alguns são bastante desconfiados e questionam tudo e todos. ')\n",
        "d3.append('• A solução é violência. Alguém magoou os sentimentos de um amigo? Violência. Falaram dele pelas costas? Violência.  ')\n",
        "d3.append('• Apreciam esportes violentos, como luta ou futebol americano. ')\n",
        "d3.append('• Querem que as pessoas obedeçam suas ordens, apesar de seu orgulho não ajudar muito em tomar as melhores decisões como líder. ')\n",
        "d3.append('• São egoístas com o que consideram seu, e não gostam de dividir. ')\n",
        "d3.append('• \"Como assim ele falou assim com você? Ele vai receber uma surra!\" ')\n",
        "d3.append('• Apesar da máscara de pessoa durona, no fundo tem medo de perder quem ama. ')"
      ]
    },
    {
      "cell_type": "code",
      "execution_count": null,
      "metadata": {
        "id": "O4rjHcszAnRP"
      },
      "outputs": [],
      "source": [
        "d4 = []\n",
        "d4.append('• Adoram leitura, é como um refúgio para si. ')\n",
        "d4.append('• Não precisam necessariamente serem bons na escola (porque vai dá dificuldade de cada pessoa), mas eles adoram aprender coisas novas. ')\n",
        "d4.append('• São pessoas criativas, que pensam em coisas novas e inovadoras. ')\n",
        "d4.append('• É fácil de pensar em um plano, e sabem agir sobre pressão. ')\n",
        "d4.append('• Seus planos tendem a ser seguros, mas de vez enquando podem arriscar. ')\n",
        "d4.append('• São pessoas sonhadoras, que pensam muito no futuro. ')\n",
        "d4.append('• Recebem críticas construtivas muito bem (apesar de ficarem tristes por não terem acertado de primeira), sabe que com elas é possível melhor mais e mais. ')\n",
        "d4.append('• São orgulhosos, mas conseguem deixar o orgulho de lado se for para o bem das pessoas que importa. ')\n",
        "d4.append('• Conseguem liderar com facilidade, e pelo caminho mais seguro. ')\n",
        "d4.append('• A lógica sempre está na frente. ')\n",
        "d4.append('• Vão sempre pensar em uma saída, mesmo que no improviso. ')\n",
        "d4.append('• Tentam se mostrar alguém confiável e responsável para os mais velhos. ')\n",
        "d4.append('• Entre amigos, são mais leves e soltos, o senso de humor pode ser diferente, mas isso não quer dizer que sejam pessoas mal humoradas. ')\n",
        "d4.append('• Sabem do seu potencial e não gostam quando ignoram. ')\n",
        "d4.append('• São aquelas pessoas que as mães adoraria que o filho tivesse como companhia, pois são responsáveis e conseguem manter os outros na linha. ')\n",
        "d4.append('• Não é fã de quebrar as regras, fazendo isso apenas se for MUITO necessário. ')\n",
        "d4.append('• Adoram saber das coisas e apresentar fatos, mas as pessoas tendem a achar \"metido\" por simplesmente querer falar do que sabe. ')\n",
        "d4.append('• Apreciam a sua própria companhia, não há problema em ficar sozinha com um livro em mãos. ')\n",
        "d4.append('• Aprendem rápido quando o assunto lhe interessa. ')\n",
        "d4.append('• Acredita que as regras são importantes, pois sem elas as pessoas não respeitariam nada e viraria uma bagunça. ')"
      ]
    },
    {
      "cell_type": "code",
      "execution_count": null,
      "metadata": {
        "id": "WwIuRV3kBKUk"
      },
      "outputs": [],
      "source": [
        "d5 = []\n",
        "d5.append('• Não tem problemas em fazer amizades, em todo lugar que vai é fácil se enturmar. ')\n",
        "d5.append('• Pessoas comunicativas, falantes e que gostam de companhia. ')\n",
        "d5.append('• São seguros de si e sabem que são bons. ')\n",
        "d5.append('• Geralmente simpáticos com todo mundo. ')\n",
        "d5.append('• Costumam ser aquela pessoa que ilumina o local, que traz felicidade e risadas. ')\n",
        "d5.append('• Gostam de tocar instrumentos musicais. ')\n",
        "d5.append('• Pessoas calorosas que adoram contato físico, sempre abraçando as pessoas. ')\n",
        "d5.append('• Adoram brincadeiras e pegadinhas, de preferência que não sejam consigo, mas não costumam se irritar fácil com isso. ')\n",
        "d5.append('• Na maior parte do tempo estão sorrindo, mesmo que não estejam feliz por dentro. ')\n",
        "d5.append('• Adoram vôlei (não precisam necessariamente jogar, serem bons e tals, mas assistir ou achar o esporte legal também vale). ')\n",
        "d5.append('• Adoram desenhar. São bem ligados a arte em si. ')\n",
        "d5.append('• Tem uma autoestima considerada alta, mas é porque eles sabem de seu valor e se aceitam. ')\n",
        "d5.append('• Gostam de ouvir música e cantar, lhes faz se sentir bem (foque no sentimento da música, você não precisa cantar bem para se sentir bem cantando). ')\n",
        "d5.append('• São pessoas acolhedoras, que não julgam os outros pela aparência e nem se importam com esteriótipos. ')\n",
        "d5.append('• Não tem vergonha de simplesmente chegar na pessoa que gosta, e não liga para opiniões alheia. ')\n",
        "d5.append('• Tem ou já tiveram uma paixão pela medicina (pode se encaixar em veterinária também). ')\n",
        "d5.append('• De repente estão cantando sem motivo, qualquer hora é hora de cantar e de alegria. ')\n",
        "d5.append('• Não são muito fãs de baixo astral, sempre tentam animar todo mundo com piadas estranhas e sem sentido. ')\n",
        "d5.append('• É aquela pessoa que você sempre pode contar, que vai estar lá para segurar o seu cabelo caso você de PT. ')\n",
        "d5.append('• São geralmente mais da emoção que da razão, é mais fácil darem apoio emocional do que uma solução para enfrentar um problema. ')"
      ]
    },
    {
      "cell_type": "code",
      "execution_count": null,
      "metadata": {
        "id": "CJNVbVsthwT4"
      },
      "outputs": [],
      "source": [
        "d6 = []\n",
        "d6.append('• São pessoas de bom coração, apesar de não saberem como demonstrar isso. ')\n",
        "d6.append('• Pacíficos, a ideia de violência não é muito agradável, mas isso não duvide que eles usem dela caso necessário. ')\n",
        "d6.append('• Gostam de inventar coisas novas e gostariam de serem conhecidos por isso. ')\n",
        "d6.append('• Geralmente são pessoas reservadas, gostam da companhia das pessoas que realmente querem o seu bem. ')\n",
        "d6.append('• Acha mais fácil se concentrar quando só. ')\n",
        "d6.append('• São apaixonados por arquitetura ou robótica. ')\n",
        "d6.append('• Desde criança gostavam de brinquedos de montar e coisas mais complexas. ')\n",
        "d6.append('• Não conseguem demonstrar seus sentimentos com muita facilidade. ')\n",
        "d6.append('• Se pudessem, escolheriam fazer todos os trabalhos sozinhos. ')\n",
        "d6.append('• É muito difícil para eles entender o próprio sentimento, imagina o dos outros. ')\n",
        "d6.append('• São boas companhias se você quiser apenas alguém para estar ao seu lado em silêncio, sem lhe julgar. ')\n",
        "d6.append('• Querem ser importantes e mostrar serviço, que são úteis. ')\n",
        "d6.append('• Odeiam a traição, consideram um dos piores defeitos que existe. ')\n",
        "d6.append('• Máquinas são sempre boas companhias. ')\n",
        "d6.append('• Não são boas com conselhos. ')\n",
        "d6.append('• É difícil ter inimigos, eles simplesmente não fazem nada ao ponto de serem odiados por alguém, são apenas quietos em seu canto. ')\n",
        "d6.append('• Odeiam o fato das pessoas excluírem os \"estranhos\" ou os \"desajeitados\". ')\n",
        "d6.append('• Suas amizades são sempre verdadeiras e confiáveis, que vai poder contar pela vida toda. ')\n",
        "d6.append('• São engraçados, mas só quem realmente lhe conhece sabe desse lado. ')\n",
        "d6.append('• As pessoas não costumam entender quando eles falam sobre robótica, e eles tem que traduzir e diminuir várias vezes, isso se as pessoas não desistirem de entender. ')"
      ]
    },
    {
      "cell_type": "code",
      "execution_count": null,
      "metadata": {
        "id": "o7b_mhfXiOd7"
      },
      "outputs": [],
      "source": [
        "d7 = []\n",
        "d7.append('• São bonitos, mas isso porque eles se consideram, não pela opinião alheia. Eles inclusive tem em mente que todo mundo deveria se aceitar como é. ')\n",
        "d7.append('• Extremamente confiantes e seguros de si. Sua aura emana poder e confiança. ')\n",
        "d7.append('• Gostam de alegria e de bom astral. ')\n",
        "d7.append('• Atuam muito bem. Saber usar do charme para conseguir o que quer. ')\n",
        "d7.append('• Podem ter fama de maldosos, mas eles apenas são um pouco mais individualista que os outros, mas isso não quer dizer que só pensem em si. ')\n",
        "d7.append('• São pessoas boas, que vem beleza e amor em tudo e todos. ')\n",
        "d7.append('• O amor é uma palavra muito forte para eles, eles realmente apreciam esse sentimento e vive ele ao máximo. ')\n",
        "d7.append('• A união que eles tem é incrível. Alguém quebrou o coração de uma amiga? Ah, pode ter certeza que todos eles irão se vingar. ')\n",
        "d7.append('• Apreciam a moda e gostam de se vestir bem (claro, com seus próprios gostos). ')\n",
        "d7.append('• Ser o centro das atenções é sempre legal, e eles adoram. ')\n",
        "d7.append('• São boas pessoas para levantar o astral de alguém. Vão passar o dia inteiro ajudando a pessoa se sentir bem com quem é, tanto fisicamente quanto internamente. São as melhores pessoas para ajudar os outros a se aceitarem. ')\n",
        "d7.append('• Sabem que são poderosos e adoram isso. ')\n",
        "d7.append('• Por mais que não seja intencional, muitos acabam \"quebrando\" o coração das pessoas porque o amor acaba não sendo correspondido. ')\n",
        "d7.append('• Geralmente educados, isso até alguém os insultar. ')\n",
        "d7.append('• \"Por favorzinho, sabe que eu te amo né?\" Acaba sendo uma das frases mais usadas. ')\n",
        "d7.append('• As pessoas costumam reclamar da demora deles para se arrumar quando vão sair.  ')\n",
        "d7.append('• Tudo para si é um máximo e super incrível, não se assuste se eles começarem a te elogiar por \"pouca coisa\". ')\n",
        "d7.append('• A opinião alheia não os afeta, pois se aceitam do jeito que são. ')\n",
        "d7.append('• Usam as palavras certas e jeitos que a pessoa não consegue dizer não para eles. ')\n",
        "d7.append('• Adoram falar sobre sentimentos com os outros e de dar conselhos amorosos. ')"
      ]
    },
    {
      "cell_type": "code",
      "execution_count": null,
      "metadata": {
        "id": "O84KUTySiyKO"
      },
      "outputs": [],
      "source": [
        "d8 = []\n",
        "d8.append('• Por fora podem parecer inofensivos, mas quem conhece de verdade sabe que é exatamente o contrário. ')\n",
        "d8.append('• Tendem a ser individualistas, ou só se importar com a família e amigos. ')\n",
        "d8.append('• Pessoas realmente festeiras, não perdem uma festa por nada e amam estar no meio da multidão. ')\n",
        "d8.append('• As pessoas costumam rotular eles como loucos por causa de sua personalidade excêntrica. ')\n",
        "d8.append('• São pessoas alegres e despreocupadas com a vida. ')\n",
        "d8.append('• Não são o melhor exemplo de organização, bom, nem de uma vida calma, nem de segurança… talvez não sejam um bom exemplo de nada. ')\n",
        "d8.append('• Eles gostam de viver a vida e o resto de se dane, realmente não ligam para as consequências. ')\n",
        "d8.append('• Amam a adrenalina e coisas que fazem sua pulsação acelerar. ')\n",
        "d8.append('• Gostam de correr perigos e não ligam se são tachados de arrogantes. ')\n",
        "d8.append('• Pessoas aventureiras, que não tem medo do que vier pela frente e aceitam qualquer desafio. ')\n",
        "d8.append('• As pessoas tendem a rótula-los como vagabundos, que não querem um futuro e querem apenas passar o dia em festas. ')\n",
        "d8.append('• Uva é a sua fruta favorita. ')\n",
        "d8.append('• São dramáticos e exagerados, sempre aumentando as coisas e tentando dar uma de vítima. ')\n",
        "d8.append('• Não costumam ligar para nada, não confie alguma coisa importante para eles fazerem porque não dará certo. ')\n",
        "d8.append('• Não liga para a opinião dos outros. ')\n",
        "d8.append('• Nas festas são aquelas pessoas que curtem sem se preocupar com o dia seguinte. ')\n",
        "d8.append('• É raríssimo eles admitirem que se arrependem de algo (mesmo que a vontade seja voltar no tempo e dar um tapão na cara de si mesmo e falar para não fazer). ')\n",
        "d8.append('• São aquelas pessoas que vão ficar até a festa acabar. ')\n",
        "d8.append('• Não costumam temer no que suas ações podem ocasionar no futuro ')\n",
        "d8.append('• Sua opinião é a que importa e detesta que digam o contrário. ')"
      ]
    },
    {
      "cell_type": "code",
      "execution_count": null,
      "metadata": {
        "id": "Q82IirDSjPpF"
      },
      "outputs": [],
      "source": [
        "d9 = []\n",
        "d9.append('• São pessoas normalmente bem reclusas, que geralmente estão sozinhos em seu canto. ')\n",
        "d9.append('• As pessoas costumam os rotular como sombrios, mas não é bem assim, pelo menos não totalmente. ')\n",
        "d9.append('• Em geral são bem tímidos e é difícil de se abrir com as pessoas. ')\n",
        "d9.append('• É difícil fazer amizades, mas quando conseguem, pode saber que será um ótimo amigo e fará de tudo pela pessoa. ')\n",
        "d9.append('• As pessoas que não os conhece direito costumam se afastar por medo. ')\n",
        "d9.append('• Inteligentes e não tem dificuldade de pensar friamente em um plano. ')\n",
        "d9.append('• Gostam de rock. ')\n",
        "d9.append('• No fundo, eles gostam de atenção e carinho, mas de forma alguma admitem isso. ')\n",
        "d9.append('• São pessoas gananciosas e não gostam de dividir o que lhe pertence. ')\n",
        "d9.append('• Não costumam temer a morte, e sabem que isso é um processo natural e encara com tamanha tranquilidade.  ')\n",
        "d9.append('• ODEIAM falar sobre seus sentimentos. Não existe pessoa melhor para guardar do que ELES MESMOS.  ')\n",
        "d9.append('• Não vão de jeito nenhum falar sobre paixão com as pessoas, é constrangedor. ')\n",
        "d9.append('• Podem ser bastante teimosos com suas ideias e pensamentos. ')\n",
        "d9.append('• Mesmo estando errados, odeiam admitir isso. ')\n",
        "d9.append('• Sempre tem pessoas que são o seu ponto fraco, e que defende com unhas e dentes, e por elas da a vida. ')\n",
        "d9.append('• Suas roupas são na maioria na cor preta. ')\n",
        "d9.append('• Odeiam quando a atenção vem tudo para si de uma vez, costumam ficar bem nervosos com tamanha atenção. ')\n",
        "d9.append('• Em uma sala com muita gente, eles evitam o centro e preferem os cantos ou perto da parede. ')\n",
        "d9.append('• Gostam da sua própria companhia e não é difícil para eles ficarem sozinhos. E odeiam os olhares de pena, como se fosse extremamente triste alguém apreciando sua própria companhia. ')\n",
        "d9.append('• Não são muito de festas, e nem de locais com muitas pessoas. ')"
      ]
    },
    {
      "cell_type": "code",
      "execution_count": null,
      "metadata": {
        "id": "Ul4FxgKCjpIq"
      },
      "outputs": [],
      "source": [
        "d10 = []\n",
        "d10.append('• São pacíficos. Realmente não desejam o mal a ninguém. ')\n",
        "d10.append('• Só atacam por pura auto defesa, detestam a violência gratuita. ')\n",
        "d10.append('• Gentis e sempre tratam tudo e todos com educação, coisa que prezam bastante. ')\n",
        "d10.append('• Misericordiosos, mesmo que a pessoa mereça, raramente fará algo para prejudicar. ')\n",
        "d10.append('• Prezam MUITO pela liberdade. ')\n",
        "d10.append('• Odeiam serem proibidos de fazerem algo. ')\n",
        "d10.append('• Tem um coração bom, sempre tentando ver o lado bom das pessoas e tentam dar uma segunda chance. ')\n",
        "d10.append('• Você nunca deve dizer a eles o que eles tem que fazer ou como agir, eles odeiam isso. ')\n",
        "d10.append('• Se dão bem com todo mundo. ')\n",
        "d10.append('• É fácil de socializar, em todo lugar que vai consegue fazer amizades ou pelo menos manter uma conversa agradável. ')\n",
        "d10.append('• Odeiam que opinem em suas vidas. ')\n",
        "d10.append('• As vezes dão discursos longos sobre a liberdade. ')\n",
        "d10.append('• São geralmente bem calmos e é difícil de realmente se estressarem. ')\n",
        "d10.append('• Entendem fácil o sentimento das pessoas e conseguem se colocar no lugar delas. ')\n",
        "d10.append('• São as melhores pessoas para alguém desabafar, vão primeiro ouvir tudo o que a pessoa tem a dizer para então aconselhar. ')\n",
        "d10.append('• Gostam de fazer as pessoas se sentirem bem. ')\n",
        "d10.append('• Tem uma aura de liberdade que costuma incentivar as outras pessoas. ')\n",
        "d10.append('• Prezam pela harmonia e que todos pelo menos se entendam. ')\n",
        "d10.append('• Geralmente são aquelas pessoas que fazem de tudo para que o grupo permaneça unido. ')\n",
        "d10.append('• Se pudessem pedir alguma coisa, pediriam a paz mundial. ')"
      ]
    },
    {
      "cell_type": "code",
      "execution_count": null,
      "metadata": {
        "id": "ouMR0Ly3j-sT"
      },
      "outputs": [],
      "source": [
        "d11 = []\n",
        "d11.append('• São geralmente pessoas tranquilas e calmas. ')\n",
        "d11.append('• Muito desligados e desatentos para o que tá acontecendo em volta. ')\n",
        "d11.append('• Pessoas extremamente sábias, seu passatempo favorito é ler para aprender. ')\n",
        "d11.append('• Não são as melhores pessoas para confiar alguma coisa, ou esquecem ou ficam com preguiça de fazer. ')\n",
        "d11.append('• Conhecidos por dormir muito, e que sem despertador não vão acordar tão cedo. ')\n",
        "d11.append('• Estão longe de serem os mais responsáveis. ')\n",
        "d11.append('• São procrastinadores natos, costumam sempre deixar as coisas para última hora, isso quando fazem. ')\n",
        "d11.append('• Quem conhece sabe que são pessoas divertidas. ')\n",
        "d11.append('• Contam piadas estranhas e difíceis de entender, enquanto eles riem as pessoas ainda estão tentando entender. ')\n",
        "d11.append('• São preguiçosos e um pouco covardes. ')\n",
        "d11.append('• Gostam de interpretar os sonhos, sempre buscando significados para as coisas. ')\n",
        "d11.append('• A presença deles trás sonolência e calmaria. ')\n",
        "d11.append('• Geralmente estão no mundo da lua, com a cabeça pensando em outras coisas menos a realidade. ')\n",
        "d11.append('• Acreditam que todos os sonhos tem significados. ')\n",
        "d11.append('• Estão sempre sonolentos. ')\n",
        "d11.append('• As vezes são lerdos para entender e processar as informações. ')\n",
        "d11.append('• Os sonhos tendem a ser lúcidos e apresentarem algo real. ')\n",
        "d11.append('• Não negam ajuda para seus amigos. ')\n",
        "d11.append('• Sempre que podem estão dormindo ou cochilando. ')\n",
        "d11.append('• Gostam do silêncio e da calmaria. ')"
      ]
    },
    {
      "cell_type": "code",
      "execution_count": null,
      "metadata": {
        "id": "wqa-ZS8dkm8G"
      },
      "outputs": [],
      "source": [
        "d12 = []\n",
        "d12.append('• São imparciais na maioria das coisas se fazem, vão pelo certo, nunca deixam de escolher algo só porque pode magoar um amigo. ')\n",
        "d12.append('• São leais as pessoas que ama, e jamais vai deixar-los na mão. ')\n",
        "d12.append('• Extremamente sinceros, então se você tem dificuldade de receber críticas é melhor não perguntar a eles. ')\n",
        "d12.append('• Fiéis, mesmo nós momentos mais difíceis. ')\n",
        "d12.append('• Honestos e prezam pela franqueza, nunca se deve mascarar as coisas. ')\n",
        "d12.append('• Seu senso de justiça é absurdo. Todos devem pegar pelo o que fazem e ninguém deve sair impune das coisas ruins. ')\n",
        "d12.append('• Extremamente vingativos, nunca vão esquecer do que fizeram para si ou família. ')\n",
        "d12.append('• Querem igualdade acima de tudo. ')\n",
        "d12.append('• Prezam pela franqueza, podendo até punir quem não cumpre a isso. ')\n",
        "d12.append('• Não acham que a sorte deveria existir, pois é injusto alguns terem mais que os outros. ')\n",
        "d12.append('• Se afastam sem pensar duas vezes de pessoas infiéis, nunca sequer conseguem ver uma justificativa para isso. ')\n",
        "d12.append('• Leais as suas próprias ideias e raramente vão mudar. ')\n",
        "d12.append('• A melhora nunca é de mais. ')\n",
        "d12.append('• Sempre estarão ao seu lado quando precisar. ')\n",
        "d12.append('• Com certeza não são aquele tipo de pessoa que só está ao seu lado em momentos bons. ')\n",
        "d12.append('• Podem ser fáceis de serem irritados, e acredite, ninguém quer eles irritados. ')\n",
        "d12.append('• Geralmente não são fãs de brincadeiras ou qualquer coisas fúteis do tipo. ')\n",
        "d12.append('• Tentam mostrar educação, principalmente aos mais velhos. ')\n",
        "d12.append('• Odeiam mentiras, a verdade é sempre melhor, mesmo que dura. ')\n",
        "d12.append('• Não costumam ligar se machucam os sentimentos dos outros, eles só são eles mesmos. ')"
      ]
    },
    {
      "cell_type": "code",
      "execution_count": null,
      "metadata": {
        "id": "-t1vQ3cckp-s"
      },
      "outputs": [],
      "source": [
        "d13 = []\n",
        "d13.append('• Tudo é motivo de competição. ')\n",
        "d13.append('• Amam ganhar, e não existe essa de o que importa é participar. ')\n",
        "d13.append('• Costumam causar confusões por causa da sua aura competitiva, as outras pessoas acabam se afastando. ')\n",
        "d13.append('• Tem uma personalidade excêntrica e \"pirada\". ')\n",
        "d13.append('• As pessoas costumam rotular eles como loucos por causa de sua obsessão por ganhar. ')\n",
        "d13.append('• São pessoas bem animadas e que nunca estão quietos. ')\n",
        "d13.append('• Se afastam daqueles que podem atrapalhar suas faturas conquistas, mesmo que a pessoa seja importante para si. ')\n",
        "d13.append('• Amam esportes. ')\n",
        "d13.append('• Só ficam na presença de quem realmente gosta de sua companhia. ')\n",
        "d13.append('• São espertos e ambiciosos. ')\n",
        "d13.append('• Estão sempre em competições, ou para assistir ou participar. ')\n",
        "d13.append('• Gostam de ser juízas das partidas. ')\n",
        "d13.append('• São determinados e sempre vão cumprir seu objetivo. ')\n",
        "d13.append('• Quando perdem alguma coisa, melhor sair de perto. Vão ficar um tempão emburrados e bravos consigo mesmo. ')\n",
        "d13.append('• Não é todo mundo que consegue entender seus objetivos e planos. ')\n",
        "d13.append('• São focados e nada e nem ninguém irá mudar sua visão do que querem pra si. ')\n",
        "d13.append('• Prezam acima de tudo, amizades que lhes entendam de verdade. ')\n",
        "d13.append('• Geralmente isolados e focados em conseguir vencer seus objetivos. ')\n",
        "d13.append('• Quando tem a tão sonhada vitória é melhor os outros se prepararem, vão passar dias falando sobre. ')"
      ]
    },
    {
      "cell_type": "code",
      "execution_count": null,
      "metadata": {
        "id": "ybKqr6oZoqy6"
      },
      "outputs": [],
      "source": [
        "d14 = []\n",
        "d14.append('• São cheios de energia. ')\n",
        "d14.append('• Sempre querendo ajudar todo mundo. ')\n",
        "d14.append('• Adoram fazer novos amigos. ')\n",
        "d14.append('• Generosos e de bom coração, se eles tem de muito, vão dar para o próximo. ')\n",
        "d14.append('• São pessoas bastante receptivas. Tratam todo mundo bem. ')\n",
        "d14.append('• Geralmente nunca estão sozinhos, e sim na companhia de diversos amigos.  ')\n",
        "d14.append('• Não gostam de ver os outros tristes, é sempre vai fazer de tudo até anima los. ')\n",
        "d14.append('• Não vê problema em mentir se for para agradar alguém, como por exemplo, falar que a roupa está bonita quando não está. ')\n",
        "d14.append('• Os melhores amigos que alguém pode ter, sempre vão estar ao lado para ajudar. ')\n",
        "d14.append('• As vezes são feitos de bobo fácil, por causa da \"inocência\". ')\n",
        "d14.append('• Podem acabar sendo usados pelos mais manipuladores, por causa da sua bondade excessiva. ')\n",
        "d14.append('• Alguns são desajeitados. ')\n",
        "d14.append('• Quando quebram algo que não era seu, vão fazer de tudo para a pessoa desculpar (mesmo que ela já tenha falado que não foi nada.) ')\n",
        "d14.append('• Raramente se irritam ou explodem. ')\n",
        "d14.append('• Um dos seus maiores medos é ficar sozinho sem amigos. ')\n",
        "d14.append('• Tem dificuldade de dizer \"não\" para as pessoas. ')\n",
        "d14.append('• Querem sempre o bem de todo mundo, mesmo que não mereçam. ')\n",
        "d14.append('• Quase não tem inimigos, pois não tem o porque das pessoas os odiarem, e se odeiam é por motivo bobo. ')\n",
        "d14.append('• São calorosos e gostam de contato físico, como um abraço ou beijinho no rosto. ')\n",
        "d14.append('• Odeiam decepcionar quem contava consigo. ')"
      ]
    },
    {
      "cell_type": "code",
      "execution_count": null,
      "metadata": {
        "id": "q8syC1FGo5S3"
      },
      "outputs": [],
      "source": [
        "d15 = []\n",
        "d15.append('• Sua personalidade muda constantemente e drasticamente. ')\n",
        "d15.append('• Uma hora são as pessoas mais felizes do mundo, outra estão xingando qualquer um que vê pela frente. ')\n",
        "d15.append('• As pessoas costumam ser bem cautelosos quando se trata deles, resumidamente um pequeno medo do que eles são capazes. ')\n",
        "d15.append('• Acreditam muito em sorte. ')\n",
        "d15.append('• Geralmente não são de socializar, tendo poucos amigos, mas amigos verdadeiros. ')\n",
        "d15.append('• Gostam de apostar e jogar jogos de azar. ')\n",
        "d15.append('• Aparecem do nada na conversa quando cansam da sua própria companhia. ')\n",
        "d15.append('• Seus amigos geralmente são muito paciente para conseguirem aguentar-los. ')\n",
        "d15.append('• São pessoas claras e objetivas, sempre indo direto no assunto. ')\n",
        "d15.append('• Tem sua opinião própria e ninguém consegue mudar. ')\n",
        "d15.append('• Não gostam de enrolação. ')\n",
        "d15.append('• Nunca vão ter ressentimentos, não adianta chorar pelo leite derramado, o que foi feito tá feito. ')\n",
        "d15.append('• Odeiam pessoas que choram por tudo e se lamentam por tudo. ')\n",
        "d15.append('• São considerados arrogantes. ')\n",
        "d15.append('• Não se deixam manipular pelos outros, sua opinião sempre será a mesma. ')\n",
        "d15.append('• Escolhem sempre o método mais seguro e odeiam quebrar as regras. ')\n",
        "d15.append('• Não adianta vir com cena sentimental para cima deles, pois não costumam se comover. ')\n",
        "d15.append('• Sua vida é basicamente movida a momentos muito bons e muito ruins. ')\n",
        "d15.append('• Acredita em amuletos que trazem sorte. ')\n",
        "d15.append('• Também acredita em coisas que dão azar, como passar de baixo de uma escada ou quebrar o espelho. ')"
      ]
    },
    {
      "cell_type": "code",
      "execution_count": null,
      "metadata": {
        "id": "UmosUTZ_o9xC"
      },
      "outputs": [],
      "source": [
        "d16 = []\n",
        "d16.append('• Seu humor é bem variável. ')\n",
        "d16.append('• Costumam acordar com um humor de dormir com um outro. ')\n",
        "d16.append('• São extremamente vingativos. ')\n",
        "d16.append('• Conhecidos como sábios, que sabem das coisas pois vivenciaram. ')\n",
        "d16.append('• Orgulhosos, e seu orgulho é facilmente ferido.  ')\n",
        "d16.append('• Eles odeiam serem rebaixados ou subestimados. ')\n",
        "d16.append('• São frios quando precisam, não tendo dificuldade de colocar a razão na frente da emoção. ')\n",
        "d16.append('• Podem ter a fama de \"malvados\" por causa dessa sua frieza. ')\n",
        "d16.append('• As pessoas em volta costumam dizer que eles tem um ar enigmático e misterioso. ')\n",
        "d16.append('• Não são muito fãs de falar sobre sentimentos, nem de se abrir com qualquer um. ')\n",
        "d16.append('• Mas, não tem dificuldade de se abrir com quem confia de verdade. ')\n",
        "d16.append('• São criativos, sempre tendo ideias diferenciadas. ')\n",
        "d16.append('• Nunca esquecem de quem os ajudou, e vão tentar retribuir. ')\n",
        "d16.append('• Também nunca se esquecem de quem negou ajuda, e tentarão buscar vingança. ')\n",
        "d16.append('• Gostam de magia, até procuram saber mais. ')\n",
        "d16.append('• São gentis com quem merece tal gentileza. ')\n",
        "d16.append('• Não costumam ter uma boa visão de disciplina, são bem difíceis de se controlar, os mais velhos que o digam. ')\n",
        "d16.append('• Na maior parte do tempo são introvertidos. ')\n",
        "d16.append('• Acreditam fielmente que tudo que vai, um dia volta. ')\n",
        "d16.append('• São a primeira alternativa para quem quer algum conselho. ')"
      ]
    },
    {
      "cell_type": "code",
      "execution_count": null,
      "metadata": {
        "id": "psH5x3HYpdai"
      },
      "outputs": [],
      "source": [
        "d17 = []\n",
        "d17.append('• Não é difícil para eles em inventar uma desculpinha esfarrapada e simplesmente se safar das coisas. ')\n",
        "d17.append('• As pessoas tendem a acreditar porque por fora parecem o tipo de pessoa que nunca faria nada de errado. ')\n",
        "d17.append('• Usam sempre as palavras certas para determinadas situações, e tem uma lábia fantástica. ')\n",
        "d17.append('• Adoram contar piadas idiotas e fazer as pessoas rirem. ')\n",
        "d17.append('• Mesmo sem querer, sempre estão atento as coisas e observando o redor. ')\n",
        "d17.append('• Não são ladrões (até porque isso da cadeia né mores ), mas tendem a pegar coisas emprestadas sem pedir, por exemplo uma roupa de um irmão. ')\n",
        "d17.append('• Sabe quando você quebra algo e coloca de novo no lugar para a próxima pessoa achar que quebrou? Isso resume muito um filho desse deus. ')\n",
        "d17.append('• Adoram fazer pegadinhas e brincadeiras. ')\n",
        "d17.append('• Pessoas muito acolhedoras e simpáticas, uma nova companhia nunca é de mais. ')\n",
        "d17.append('• Quanto mais amigos melhor. Ama estar com pessoas. E mais gente significa mais pessoas como alvo de suas brincadeiras. ')\n",
        "d17.append('• É fácil ganhar discussões de escolha (por exemplo, escolher um filme), pois eles sabem usar argumentos incríveis quando querem algo. ')\n",
        "d17.append('• E quando não querem algo, acham defeitos para que a pessoa simplesmente desista da ideia. ')\n",
        "d17.append('• Amam viajar e conhecer novos lugares, se pudesse até trabalharia com isso. ')\n",
        "d17.append('• Consegue manter a \"aparência\" de alguém confiável e que nunca faria ou faz algo de ruim. ')\n",
        "d17.append('• É bem fácil para eles convencer as pessoas. ')\n",
        "d17.append('• Sabe quando a situação está feia e é hora de meter o pé, fugir de fininho é com eles mesmo. ')\n",
        "d17.append('• Suas ideias para se safar não tem limites, se estão com problemas sua mente é muito rápida em uma solução. ')\n",
        "d17.append('• São geralmente bem falantes e não são muito fãs do silêncio, nem de estar sozinhos. ')\n",
        "d17.append('• Não vem problema na mentira se isso for para salvar sua própria pele. ')\n",
        "d17.append('• A palavra esperteza lhes define mais do que inteligência. ')"
      ]
    },
    {
      "cell_type": "code",
      "execution_count": null,
      "metadata": {
        "id": "2ArgK1O4uQQq"
      },
      "outputs": [],
      "source": [
        "deuses = []\n",
        "\n",
        "deuses.append(d0)\n",
        "deuses.append(d1)\n",
        "deuses.append(d2)\n",
        "deuses.append(d3)\n",
        "deuses.append(d4)\n",
        "deuses.append(d5)\n",
        "deuses.append(d6)\n",
        "deuses.append(d7)\n",
        "deuses.append(d8)\n",
        "deuses.append(d9)\n",
        "deuses.append(d10)\n",
        "deuses.append(d11)\n",
        "deuses.append(d12)\n",
        "deuses.append(d13)\n",
        "deuses.append(d14)\n",
        "deuses.append(d15)\n",
        "deuses.append(d16)\n",
        "deuses.append(d17)"
      ]
    },
    {
      "cell_type": "code",
      "execution_count": null,
      "metadata": {
        "id": "aj6fCx5AozVp"
      },
      "outputs": [],
      "source": [
        "\n"
      ]
    },
    {
      "cell_type": "code",
      "execution_count": null,
      "metadata": {
        "colab": {
          "background_save": true,
          "base_uri": "https://localhost:8080/"
        },
        "id": "DJiD9K02podg",
        "outputId": "78611228-bd8b-4ccb-e252-32e0ce26cfd5"
      },
      "outputs": [
        {
          "name": "stdout",
          "output_type": "stream",
          "text": [
            "Descubra quem é seu pai/mãe olimpiano!!  \n",
            "\n",
            "\n",
            "O teste funcioina da seguinte maneira: aparecerá uma frase e se ela se aplicar a você digite \"v\", caso contrário, digite \"f\" e pressione enter   \n",
            "\n",
            "\n",
            "É isso! boa sorte :)   \n",
            " \n",
            " \n",
            "\n"
          ]
        }
      ],
      "source": [
        "print('Descubra quem é seu pai/mãe olimpiano!!  \\n\\n')\n",
        "print('O teste funcioina da seguinte maneira: aparecerá uma frase e se ela se aplicar a você digite \"v\", caso contrário, digite \"f\" e pressione enter   \\n\\n')\n",
        "print('É isso! boa sorte :)   \\n \\n \\n')\n",
        "\n",
        "r = ''\n",
        "\n",
        "for i in range(len(deuses)):\n",
        "  for j in range(len(deuses[i])):\n",
        "    r = input(deuses[i][j]).lower().replace(' ', '')\n",
        "    while r not in ['v', 'f']:\n",
        "      r = input(f'\\n\\nCaso a frase se aplique a você, digite \"v\", caso contrário, digite \"f\"')\n",
        "    if r == 'v':\n",
        "      scores[i][0] = scores[i][0]+1\n",
        "\n",
        "score_results = max(scores)\n",
        "deus_results = ''\n",
        "deuses_results = ''\n",
        "\n",
        "scores.sort(reverse = True)\n",
        "\n",
        "if list(map(itemgetter(0), scores)).count(score_results[0]) != 1:\n",
        "  for i in range(len(scores)):\n",
        "    if scores[i][0] == score_results[0]:\n",
        "      deuses_results += f' {scores[i][1]},'\n",
        "    else:\n",
        "      break\n",
        "  deus_results = input(f'\\n\\nHmm... parece que sua origem ainda não está tão clara...  \\n\\nAgora cabe a você responder, dentre{deuses_results} com qual deus(a) você mais se identifica? ')\n",
        "  while unidecode.unidecode(deus_results.capitalize()) not in unidecode.unidecode(deuses_results):\n",
        "    deus_results = input(f'\\n\\nDigite um nome entre{deuses_results} por favor. ')\n",
        "else:\n",
        "  deus_results = scores[0][1]\n",
        "\n",
        "print(f'\\n\\nParabéns!! Você é filh_ de {deus_results.capitalize()}!!!')"
      ]
    }
  ],
  "metadata": {
    "colab": {
      "provenance": [],
      "authorship_tag": "ABX9TyMeKCm1z+aHC9WInw4eP181",
      "include_colab_link": true
    },
    "kernelspec": {
      "display_name": "Python 3",
      "name": "python3"
    },
    "language_info": {
      "name": "python"
    }
  },
  "nbformat": 4,
  "nbformat_minor": 0
}